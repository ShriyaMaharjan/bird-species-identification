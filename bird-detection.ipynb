{
 "cells": [
  {
   "cell_type": "code",
   "execution_count": 2,
   "metadata": {
    "execution": {
     "iopub.execute_input": "2024-02-02T05:34:40.712655Z",
     "iopub.status.busy": "2024-02-02T05:34:40.711921Z",
     "iopub.status.idle": "2024-02-02T05:35:03.998922Z",
     "shell.execute_reply": "2024-02-02T05:35:03.997351Z",
     "shell.execute_reply.started": "2024-02-02T05:34:40.712619Z"
    }
   },
   "outputs": [
    {
     "name": "stdout",
     "output_type": "stream",
     "text": [
      "Defaulting to user installation because normal site-packages is not writeable\n",
      "Collecting numpy==1.23.5\n",
      "  Obtaining dependency information for numpy==1.23.5 from https://files.pythonhosted.org/packages/19/0d/b8c34e4baf258d77a8592bdce45183e9a12874c167f5966c7dd467b74ea9/numpy-1.23.5-cp311-cp311-win_amd64.whl.metadata\n",
      "  Downloading numpy-1.23.5-cp311-cp311-win_amd64.whl.metadata (2.3 kB)\n",
      "Downloading numpy-1.23.5-cp311-cp311-win_amd64.whl (14.6 MB)\n",
      "   ---------------------------------------- 0.0/14.6 MB ? eta -:--:--\n",
      "   ---------------------------------------- 0.0/14.6 MB 991.0 kB/s eta 0:00:15\n",
      "    --------------------------------------- 0.2/14.6 MB 2.8 MB/s eta 0:00:06\n",
      "   -- ------------------------------------- 0.9/14.6 MB 6.2 MB/s eta 0:00:03\n",
      "   ------- -------------------------------- 2.7/14.6 MB 14.1 MB/s eta 0:00:01\n",
      "   -------- ------------------------------- 3.3/14.6 MB 13.9 MB/s eta 0:00:01\n",
      "   ---------- ----------------------------- 3.9/14.6 MB 13.8 MB/s eta 0:00:01\n",
      "   ----------- ---------------------------- 4.1/14.6 MB 13.8 MB/s eta 0:00:01\n",
      "   ----------- ---------------------------- 4.1/14.6 MB 13.8 MB/s eta 0:00:01\n",
      "   ----------- ---------------------------- 4.2/14.6 MB 10.0 MB/s eta 0:00:02\n",
      "   ------------- -------------------------- 5.0/14.6 MB 10.6 MB/s eta 0:00:01\n",
      "   --------------- ------------------------ 5.6/14.6 MB 10.7 MB/s eta 0:00:01\n",
      "   ---------------- ----------------------- 6.2/14.6 MB 10.9 MB/s eta 0:00:01\n",
      "   ------------------ --------------------- 6.8/14.6 MB 11.2 MB/s eta 0:00:01\n",
      "   ------------------- -------------------- 7.2/14.6 MB 11.2 MB/s eta 0:00:01\n",
      "   ------------------- -------------------- 7.2/14.6 MB 11.2 MB/s eta 0:00:01\n",
      "   ------------------- -------------------- 7.2/14.6 MB 11.2 MB/s eta 0:00:01\n",
      "   --------------------- ------------------ 8.0/14.6 MB 10.0 MB/s eta 0:00:01\n",
      "   ----------------------- ---------------- 8.6/14.6 MB 10.2 MB/s eta 0:00:01\n",
      "   ------------------------- -------------- 9.2/14.6 MB 10.4 MB/s eta 0:00:01\n",
      "   --------------------------- ------------ 9.9/14.6 MB 10.4 MB/s eta 0:00:01\n",
      "   ---------------------------- ----------- 10.3/14.6 MB 11.1 MB/s eta 0:00:01\n",
      "   ---------------------------- ----------- 10.3/14.6 MB 11.1 MB/s eta 0:00:01\n",
      "   ----------------------------- ---------- 10.8/14.6 MB 10.6 MB/s eta 0:00:01\n",
      "   ------------------------------ --------- 11.2/14.6 MB 10.4 MB/s eta 0:00:01\n",
      "   ------------------------------- -------- 11.7/14.6 MB 9.9 MB/s eta 0:00:01\n",
      "   --------------------------------- ------ 12.1/14.6 MB 9.5 MB/s eta 0:00:01\n",
      "   ---------------------------------- ----- 12.6/14.6 MB 9.4 MB/s eta 0:00:01\n",
      "   ----------------------------------- ---- 13.0/14.6 MB 9.0 MB/s eta 0:00:01\n",
      "   ------------------------------------ --- 13.4/14.6 MB 8.8 MB/s eta 0:00:01\n",
      "   ------------------------------------- -- 13.8/14.6 MB 8.7 MB/s eta 0:00:01\n",
      "   ---------------------------------------  14.3/14.6 MB 8.7 MB/s eta 0:00:01\n",
      "   ---------------------------------------  14.6/14.6 MB 9.6 MB/s eta 0:00:01\n",
      "   ---------------------------------------  14.6/14.6 MB 9.6 MB/s eta 0:00:01\n",
      "   ---------------------------------------- 14.6/14.6 MB 8.8 MB/s eta 0:00:00\n",
      "Installing collected packages: numpy\n",
      "  Attempting uninstall: numpy\n",
      "    Found existing installation: numpy 2.0.0\n",
      "    Uninstalling numpy-2.0.0:\n",
      "      Successfully uninstalled numpy-2.0.0\n"
     ]
    },
    {
     "name": "stderr",
     "output_type": "stream",
     "text": [
      "  WARNING: The script f2py.exe is installed in 'C:\\Users\\praks\\AppData\\Roaming\\Python\\Python311\\Scripts' which is not on PATH.\n",
      "  Consider adding this directory to PATH or, if you prefer to suppress this warning, use --no-warn-script-location.\n",
      "ERROR: Could not install packages due to an OSError: [WinError 5] Access is denied: 'C:\\\\Users\\\\praks\\\\AppData\\\\Roaming\\\\Python\\\\Python311\\\\site-packages\\\\~~mpy.libs\\\\libscipy_openblas64_-fb1711452d4d8cee9f276fd1449ee5c7.dll'\n",
      "Check the permissions.\n",
      "\n"
     ]
    }
   ],
   "source": [
    "!pip install numpy==1.23.5\n",
    "\n",
    "\n"
   ]
  },
  {
   "cell_type": "code",
   "execution_count": 18,
   "metadata": {
    "execution": {
     "iopub.execute_input": "2024-02-02T05:35:04.002263Z",
     "iopub.status.busy": "2024-02-02T05:35:04.001862Z",
     "iopub.status.idle": "2024-02-02T05:35:19.964819Z",
     "shell.execute_reply": "2024-02-02T05:35:19.963359Z",
     "shell.execute_reply.started": "2024-02-02T05:35:04.002229Z"
    }
   },
   "outputs": [],
   "source": [
    "from tensorflow.compat.v1.losses import sparse_softmax_cross_entropy as tf_loss\n",
    "from tensorflow.keras.layers import Input, Lambda, Dense, Flatten\n",
    "from tensorflow.keras.models import Model\n",
    "from tensorflow.keras.applications.vgg16 import VGG16, preprocess_input\n",
    "from tensorflow.keras.preprocessing import image\n",
    "from tensorflow.keras.preprocessing.image import ImageDataGenerator\n",
    "import numpy as np\n",
    "from glob import glob\n",
    "import matplotlib.pyplot as plt"
   ]
  },
  {
   "cell_type": "code",
   "execution_count": 19,
   "metadata": {
    "execution": {
     "iopub.execute_input": "2024-02-02T05:35:19.967739Z",
     "iopub.status.busy": "2024-02-02T05:35:19.966700Z",
     "iopub.status.idle": "2024-02-02T05:35:19.974196Z",
     "shell.execute_reply": "2024-02-02T05:35:19.973251Z",
     "shell.execute_reply.started": "2024-02-02T05:35:19.967687Z"
    }
   },
   "outputs": [],
   "source": [
    "IMAGE_SIZE = [224, 224]"
   ]
  },
  {
   "cell_type": "code",
   "execution_count": 20,
   "metadata": {
    "execution": {
     "iopub.execute_input": "2024-02-02T05:35:19.977548Z",
     "iopub.status.busy": "2024-02-02T05:35:19.977132Z",
     "iopub.status.idle": "2024-02-02T05:35:20.001172Z",
     "shell.execute_reply": "2024-02-02T05:35:19.999806Z",
     "shell.execute_reply.started": "2024-02-02T05:35:19.977508Z"
    }
   },
   "outputs": [],
   "source": [
    "train_directory = r'C:\\Users\\praks\\Downloads\\Bird_Species_Classification_Streamlit-master\\Bird_Species_Classification_Streamlit-master\\Birds dataset\\train'\n",
    "test_directory = r'C:\\Users\\praks\\Downloads\\Bird_Species_Classification_Streamlit-master\\Bird_Species_Classification_Streamlit-master\\Birds dataset\\test'\n",
    "val_directory = r'C:\\Users\\praks\\Downloads\\Bird_Species_Classification_Streamlit-master\\Bird_Species_Classification_Streamlit-master\\Birds dataset\\valid'\n",
    "\n"
   ]
  },
  {
   "cell_type": "code",
   "execution_count": 21,
   "metadata": {
    "execution": {
     "iopub.execute_input": "2024-02-02T05:35:20.003257Z",
     "iopub.status.busy": "2024-02-02T05:35:20.002872Z",
     "iopub.status.idle": "2024-02-02T05:35:22.850273Z",
     "shell.execute_reply": "2024-02-02T05:35:22.848539Z",
     "shell.execute_reply.started": "2024-02-02T05:35:20.003224Z"
    }
   },
   "outputs": [],
   "source": [
    "# add preprocessing layer to the front of VGG\n",
    "vgg = VGG16(input_shape=IMAGE_SIZE + [3], weights='imagenet', include_top=False)\n",
    "\n",
    "# don't train existing weights\n",
    "for layer in vgg.layers:\n",
    "  layer.trainable = False"
   ]
  },
  {
   "cell_type": "code",
   "execution_count": 22,
   "metadata": {
    "execution": {
     "iopub.execute_input": "2024-02-02T05:35:22.855051Z",
     "iopub.status.busy": "2024-02-02T05:35:22.854543Z",
     "iopub.status.idle": "2024-02-02T05:35:23.216966Z",
     "shell.execute_reply": "2024-02-02T05:35:23.215563Z",
     "shell.execute_reply.started": "2024-02-02T05:35:22.855015Z"
    }
   },
   "outputs": [
    {
     "data": {
      "text/plain": [
       "525"
      ]
     },
     "execution_count": 22,
     "metadata": {},
     "output_type": "execute_result"
    }
   ],
   "source": [
    "  # useful for getting number of classes\n",
    "folders = glob(r'C:\\Users\\praks\\Downloads\\Bird_Species_Classification_Streamlit-master\\Bird_Species_Classification_Streamlit-master\\Birds dataset\\train\\*')\n",
    "len(folders)"
   ]
  },
  {
   "cell_type": "code",
   "execution_count": 23,
   "metadata": {
    "execution": {
     "iopub.execute_input": "2024-02-02T05:35:23.219199Z",
     "iopub.status.busy": "2024-02-02T05:35:23.218834Z",
     "iopub.status.idle": "2024-02-02T05:35:23.368660Z",
     "shell.execute_reply": "2024-02-02T05:35:23.367236Z",
     "shell.execute_reply.started": "2024-02-02T05:35:23.219170Z"
    }
   },
   "outputs": [],
   "source": [
    "# our layers - you can add more if you want\n",
    "x = Flatten()(vgg.output)\n",
    "# x = Dense(1000, activation='relu')(x)\n",
    "prediction = Dense(len(folders), activation='softmax')(x)"
   ]
  },
  {
   "cell_type": "code",
   "execution_count": 24,
   "metadata": {
    "execution": {
     "iopub.execute_input": "2024-02-02T05:35:23.370385Z",
     "iopub.status.busy": "2024-02-02T05:35:23.370050Z",
     "iopub.status.idle": "2024-02-02T05:35:23.440394Z",
     "shell.execute_reply": "2024-02-02T05:35:23.439188Z",
     "shell.execute_reply.started": "2024-02-02T05:35:23.370357Z"
    }
   },
   "outputs": [
    {
     "name": "stdout",
     "output_type": "stream",
     "text": [
      "Model: \"model_1\"\n",
      "_________________________________________________________________\n",
      " Layer (type)                Output Shape              Param #   \n",
      "=================================================================\n",
      " input_2 (InputLayer)        [(None, 224, 224, 3)]     0         \n",
      "                                                                 \n",
      " block1_conv1 (Conv2D)       (None, 224, 224, 64)      1792      \n",
      "                                                                 \n",
      " block1_conv2 (Conv2D)       (None, 224, 224, 64)      36928     \n",
      "                                                                 \n",
      " block1_pool (MaxPooling2D)  (None, 112, 112, 64)      0         \n",
      "                                                                 \n",
      " block2_conv1 (Conv2D)       (None, 112, 112, 128)     73856     \n",
      "                                                                 \n",
      " block2_conv2 (Conv2D)       (None, 112, 112, 128)     147584    \n",
      "                                                                 \n",
      " block2_pool (MaxPooling2D)  (None, 56, 56, 128)       0         \n",
      "                                                                 \n",
      " block3_conv1 (Conv2D)       (None, 56, 56, 256)       295168    \n",
      "                                                                 \n",
      " block3_conv2 (Conv2D)       (None, 56, 56, 256)       590080    \n",
      "                                                                 \n",
      " block3_conv3 (Conv2D)       (None, 56, 56, 256)       590080    \n",
      "                                                                 \n",
      " block3_pool (MaxPooling2D)  (None, 28, 28, 256)       0         \n",
      "                                                                 \n",
      " block4_conv1 (Conv2D)       (None, 28, 28, 512)       1180160   \n",
      "                                                                 \n",
      " block4_conv2 (Conv2D)       (None, 28, 28, 512)       2359808   \n",
      "                                                                 \n",
      " block4_conv3 (Conv2D)       (None, 28, 28, 512)       2359808   \n",
      "                                                                 \n",
      " block4_pool (MaxPooling2D)  (None, 14, 14, 512)       0         \n",
      "                                                                 \n",
      " block5_conv1 (Conv2D)       (None, 14, 14, 512)       2359808   \n",
      "                                                                 \n",
      " block5_conv2 (Conv2D)       (None, 14, 14, 512)       2359808   \n",
      "                                                                 \n",
      " block5_conv3 (Conv2D)       (None, 14, 14, 512)       2359808   \n",
      "                                                                 \n",
      " block5_pool (MaxPooling2D)  (None, 7, 7, 512)         0         \n",
      "                                                                 \n",
      " flatten_1 (Flatten)         (None, 25088)             0         \n",
      "                                                                 \n",
      " dense_1 (Dense)             (None, 525)               13171725  \n",
      "                                                                 \n",
      "=================================================================\n",
      "Total params: 27886413 (106.38 MB)\n",
      "Trainable params: 13171725 (50.25 MB)\n",
      "Non-trainable params: 14714688 (56.13 MB)\n",
      "_________________________________________________________________\n"
     ]
    }
   ],
   "source": [
    "# create a model object\n",
    "model = Model(inputs=vgg.input, outputs=prediction)\n",
    "\n",
    "# view the structure of the model\n",
    "model.summary()"
   ]
  },
  {
   "cell_type": "code",
   "execution_count": 25,
   "metadata": {
    "execution": {
     "iopub.execute_input": "2024-02-02T05:35:23.442785Z",
     "iopub.status.busy": "2024-02-02T05:35:23.442094Z",
     "iopub.status.idle": "2024-02-02T05:35:23.469740Z",
     "shell.execute_reply": "2024-02-02T05:35:23.468721Z",
     "shell.execute_reply.started": "2024-02-02T05:35:23.442741Z"
    }
   },
   "outputs": [],
   "source": [
    "model.compile(loss='categorical_crossentropy', optimizer='adam', metrics=['accuracy'])\n"
   ]
  },
  {
   "cell_type": "code",
   "execution_count": 26,
   "metadata": {
    "execution": {
     "iopub.execute_input": "2024-02-02T05:35:23.473835Z",
     "iopub.status.busy": "2024-02-02T05:35:23.473185Z",
     "iopub.status.idle": "2024-02-02T05:35:35.351106Z",
     "shell.execute_reply": "2024-02-02T05:35:35.349945Z",
     "shell.execute_reply.started": "2024-02-02T05:35:23.473796Z"
    }
   },
   "outputs": [
    {
     "name": "stdout",
     "output_type": "stream",
     "text": [
      "Found 84635 images belonging to 525 classes.\n",
      "Found 2625 images belonging to 525 classes.\n"
     ]
    }
   ],
   "source": [
    "from keras.preprocessing.image import ImageDataGenerator\n",
    "\n",
    "train_datagen = ImageDataGenerator(rescale = 1./255,\n",
    "                                   shear_range = 0.2,\n",
    "                                   zoom_range = 0.2,\n",
    "                                   horizontal_flip = True)\n",
    "\n",
    "test_datagen = ImageDataGenerator(rescale = 1./255)\n",
    "\n",
    "training_set = train_datagen.flow_from_directory(train_directory,\n",
    "                                                 target_size = (224, 224),\n",
    "                                                 batch_size = 32,\n",
    "                                                 class_mode = 'categorical')\n",
    "\n",
    "test_set = test_datagen.flow_from_directory(test_directory,\n",
    "                                            target_size = (224, 224),\n",
    "                                            batch_size = 32,\n",
    "                                            class_mode = 'categorical')"
   ]
  },
  {
   "cell_type": "code",
   "execution_count": 27,
   "metadata": {
    "execution": {
     "iopub.execute_input": "2024-02-02T05:35:35.352931Z",
     "iopub.status.busy": "2024-02-02T05:35:35.352583Z",
     "iopub.status.idle": "2024-02-02T05:35:35.360433Z",
     "shell.execute_reply": "2024-02-02T05:35:35.359314Z",
     "shell.execute_reply.started": "2024-02-02T05:35:35.352901Z"
    }
   },
   "outputs": [
    {
     "name": "stdout",
     "output_type": "stream",
     "text": [
      "2645\n",
      "83\n"
     ]
    }
   ],
   "source": [
    "print(len(training_set))\n",
    "print(len(test_set))"
   ]
  },
  {
   "cell_type": "code",
   "execution_count": null,
   "metadata": {
    "execution": {
     "iopub.execute_input": "2024-01-18T08:32:40.176879Z",
     "iopub.status.busy": "2024-01-18T08:32:40.176113Z",
     "iopub.status.idle": "2024-01-18T10:33:06.820297Z",
     "shell.execute_reply": "2024-01-18T10:33:06.819077Z",
     "shell.execute_reply.started": "2024-01-18T08:32:40.176846Z"
    }
   },
   "outputs": [],
   "source": [
    "r = model.fit(\n",
    "  training_set,\n",
    "  validation_data=test_set,\n",
    "  epochs=5,\n",
    "  steps_per_epoch=len(training_set),\n",
    "  validation_steps=len(test_set)\n",
    ")\n"
   ]
  },
  {
   "cell_type": "code",
   "execution_count": null,
   "metadata": {
    "execution": {
     "iopub.execute_input": "2024-01-19T10:19:26.404461Z",
     "iopub.status.busy": "2024-01-19T10:19:26.404147Z",
     "iopub.status.idle": "2024-01-19T10:19:26.446549Z",
     "shell.execute_reply": "2024-01-19T10:19:26.443582Z",
     "shell.execute_reply.started": "2024-01-19T10:19:26.404432Z"
    }
   },
   "outputs": [],
   "source": [
    "# loss\n",
    "plt.plot(r.history['loss'], label='train loss')\n",
    "plt.plot(r.history['val_loss'], label='val loss')\n",
    "plt.legend()\n",
    "plt.show()"
   ]
  },
  {
   "cell_type": "code",
   "execution_count": null,
   "metadata": {
    "execution": {
     "iopub.execute_input": "2024-01-19T10:19:27.520249Z",
     "iopub.status.busy": "2024-01-19T10:19:27.519865Z",
     "iopub.status.idle": "2024-01-19T10:19:27.562298Z",
     "shell.execute_reply": "2024-01-19T10:19:27.560341Z",
     "shell.execute_reply.started": "2024-01-19T10:19:27.520218Z"
    }
   },
   "outputs": [],
   "source": [
    "# accuracies\n",
    "plt.plot(r.history['accuracy'], label='train acc')\n",
    "plt.plot(r.history['val_accuracy'], label='val acc')\n",
    "plt.legend()\n",
    "plt.show()"
   ]
  },
  {
   "cell_type": "code",
   "execution_count": null,
   "metadata": {
    "execution": {
     "iopub.execute_input": "2024-01-19T10:19:28.496492Z",
     "iopub.status.busy": "2024-01-19T10:19:28.496034Z",
     "iopub.status.idle": "2024-01-19T10:19:28.723123Z",
     "shell.execute_reply": "2024-01-19T10:19:28.721702Z",
     "shell.execute_reply.started": "2024-01-19T10:19:28.496458Z"
    }
   },
   "outputs": [],
   "source": [
    "model.save('BC.h5')"
   ]
  },
  {
   "cell_type": "code",
   "execution_count": 28,
   "metadata": {
    "execution": {
     "iopub.execute_input": "2024-02-02T05:35:35.362954Z",
     "iopub.status.busy": "2024-02-02T05:35:35.362031Z",
     "iopub.status.idle": "2024-02-02T05:35:37.386649Z",
     "shell.execute_reply": "2024-02-02T05:35:37.385570Z",
     "shell.execute_reply.started": "2024-02-02T05:35:35.362920Z"
    }
   },
   "outputs": [],
   "source": [
    "from keras.models import load_model\n",
    "from keras.preprocessing.image import load_img,img_to_array\n",
    "\n",
    "model1 = load_model(r'C:\\Users\\praks\\Downloads\\Bird_Species_Classification_Streamlit-master\\Bird_Species_Classification_Streamlit-master\\BC.h5', compile=False)\n"
   ]
  },
  {
   "cell_type": "code",
   "execution_count": 29,
   "metadata": {
    "execution": {
     "iopub.execute_input": "2024-02-02T05:35:37.388402Z",
     "iopub.status.busy": "2024-02-02T05:35:37.388035Z",
     "iopub.status.idle": "2024-02-02T05:35:37.394573Z",
     "shell.execute_reply": "2024-02-02T05:35:37.393214Z",
     "shell.execute_reply.started": "2024-02-02T05:35:37.388370Z"
    }
   },
   "outputs": [
    {
     "data": {
      "text/plain": [
       "{0: 'ABBOTTS BABBLER',\n",
       " 1: 'ABBOTTS BOOBY',\n",
       " 2: 'ABYSSINIAN GROUND HORNBILL',\n",
       " 3: 'AFRICAN CROWNED CRANE',\n",
       " 4: 'AFRICAN EMERALD CUCKOO',\n",
       " 5: 'AFRICAN FIREFINCH',\n",
       " 6: 'AFRICAN OYSTER CATCHER',\n",
       " 7: 'AFRICAN PIED HORNBILL',\n",
       " 8: 'AFRICAN PYGMY GOOSE',\n",
       " 9: 'ALBATROSS',\n",
       " 10: 'ALBERTS TOWHEE',\n",
       " 11: 'ALEXANDRINE PARAKEET',\n",
       " 12: 'ALPINE CHOUGH',\n",
       " 13: 'ALTAMIRA YELLOWTHROAT',\n",
       " 14: 'AMERICAN AVOCET',\n",
       " 15: 'AMERICAN BITTERN',\n",
       " 16: 'AMERICAN COOT',\n",
       " 17: 'AMERICAN DIPPER',\n",
       " 18: 'AMERICAN FLAMINGO',\n",
       " 19: 'AMERICAN GOLDFINCH',\n",
       " 20: 'AMERICAN KESTREL',\n",
       " 21: 'AMERICAN PIPIT',\n",
       " 22: 'AMERICAN REDSTART',\n",
       " 23: 'AMERICAN ROBIN',\n",
       " 24: 'AMERICAN WIGEON',\n",
       " 25: 'AMETHYST WOODSTAR',\n",
       " 26: 'ANDEAN GOOSE',\n",
       " 27: 'ANDEAN LAPWING',\n",
       " 28: 'ANDEAN SISKIN',\n",
       " 29: 'ANHINGA',\n",
       " 30: 'ANIANIAU',\n",
       " 31: 'ANNAS HUMMINGBIRD',\n",
       " 32: 'ANTBIRD',\n",
       " 33: 'ANTILLEAN EUPHONIA',\n",
       " 34: 'APAPANE',\n",
       " 35: 'APOSTLEBIRD',\n",
       " 36: 'ARARIPE MANAKIN',\n",
       " 37: 'ASHY STORM PETREL',\n",
       " 38: 'ASHY THRUSHBIRD',\n",
       " 39: 'ASIAN CRESTED IBIS',\n",
       " 40: 'ASIAN DOLLARD BIRD',\n",
       " 41: 'ASIAN GREEN BEE EATER',\n",
       " 42: 'ASIAN OPENBILL STORK',\n",
       " 43: 'AUCKLAND SHAQ',\n",
       " 44: 'AUSTRAL CANASTERO',\n",
       " 45: 'AUSTRALASIAN FIGBIRD',\n",
       " 46: 'AVADAVAT',\n",
       " 47: 'AZARAS SPINETAIL',\n",
       " 48: 'AZURE BREASTED PITTA',\n",
       " 49: 'AZURE JAY',\n",
       " 50: 'AZURE TANAGER',\n",
       " 51: 'AZURE TIT',\n",
       " 52: 'BAIKAL TEAL',\n",
       " 53: 'BALD EAGLE',\n",
       " 54: 'BALD IBIS',\n",
       " 55: 'BALI STARLING',\n",
       " 56: 'BALTIMORE ORIOLE',\n",
       " 57: 'BANANAQUIT',\n",
       " 58: 'BAND TAILED GUAN',\n",
       " 59: 'BANDED BROADBILL',\n",
       " 60: 'BANDED PITA',\n",
       " 61: 'BANDED STILT',\n",
       " 62: 'BAR-TAILED GODWIT',\n",
       " 63: 'BARN OWL',\n",
       " 64: 'BARN SWALLOW',\n",
       " 65: 'BARRED PUFFBIRD',\n",
       " 66: 'BARROWS GOLDENEYE',\n",
       " 67: 'BAY-BREASTED WARBLER',\n",
       " 68: 'BEARDED BARBET',\n",
       " 69: 'BEARDED BELLBIRD',\n",
       " 70: 'BEARDED REEDLING',\n",
       " 71: 'BELTED KINGFISHER',\n",
       " 72: 'BIRD OF PARADISE',\n",
       " 73: 'BLACK AND YELLOW BROADBILL',\n",
       " 74: 'BLACK BAZA',\n",
       " 75: 'BLACK BREASTED PUFFBIRD',\n",
       " 76: 'BLACK COCKATO',\n",
       " 77: 'BLACK FACED SPOONBILL',\n",
       " 78: 'BLACK FRANCOLIN',\n",
       " 79: 'BLACK HEADED CAIQUE',\n",
       " 80: 'BLACK NECKED STILT',\n",
       " 81: 'BLACK SKIMMER',\n",
       " 82: 'BLACK SWAN',\n",
       " 83: 'BLACK TAIL CRAKE',\n",
       " 84: 'BLACK THROATED BUSHTIT',\n",
       " 85: 'BLACK THROATED HUET',\n",
       " 86: 'BLACK THROATED WARBLER',\n",
       " 87: 'BLACK VENTED SHEARWATER',\n",
       " 88: 'BLACK VULTURE',\n",
       " 89: 'BLACK-CAPPED CHICKADEE',\n",
       " 90: 'BLACK-NECKED GREBE',\n",
       " 91: 'BLACK-THROATED SPARROW',\n",
       " 92: 'BLACKBURNIAM WARBLER',\n",
       " 93: 'BLONDE CRESTED WOODPECKER',\n",
       " 94: 'BLOOD PHEASANT',\n",
       " 95: 'BLUE COAU',\n",
       " 96: 'BLUE DACNIS',\n",
       " 97: 'BLUE GRAY GNATCATCHER',\n",
       " 98: 'BLUE GROSBEAK',\n",
       " 99: 'BLUE GROUSE',\n",
       " 100: 'BLUE HERON',\n",
       " 101: 'BLUE MALKOHA',\n",
       " 102: 'BLUE THROATED PIPING GUAN',\n",
       " 103: 'BLUE THROATED TOUCANET',\n",
       " 104: 'BOBOLINK',\n",
       " 105: 'BORNEAN BRISTLEHEAD',\n",
       " 106: 'BORNEAN LEAFBIRD',\n",
       " 107: 'BORNEAN PHEASANT',\n",
       " 108: 'BRANDT CORMARANT',\n",
       " 109: 'BREWERS BLACKBIRD',\n",
       " 110: 'BROWN CREPPER',\n",
       " 111: 'BROWN HEADED COWBIRD',\n",
       " 112: 'BROWN NOODY',\n",
       " 113: 'BROWN THRASHER',\n",
       " 114: 'BUFFLEHEAD',\n",
       " 115: 'BULWERS PHEASANT',\n",
       " 116: 'BURCHELLS COURSER',\n",
       " 117: 'BUSH TURKEY',\n",
       " 118: 'CAATINGA CACHOLOTE',\n",
       " 119: 'CABOTS TRAGOPAN',\n",
       " 120: 'CACTUS WREN',\n",
       " 121: 'CALIFORNIA CONDOR',\n",
       " 122: 'CALIFORNIA GULL',\n",
       " 123: 'CALIFORNIA QUAIL',\n",
       " 124: 'CAMPO FLICKER',\n",
       " 125: 'CANARY',\n",
       " 126: 'CANVASBACK',\n",
       " 127: 'CAPE GLOSSY STARLING',\n",
       " 128: 'CAPE LONGCLAW',\n",
       " 129: 'CAPE MAY WARBLER',\n",
       " 130: 'CAPE ROCK THRUSH',\n",
       " 131: 'CAPPED HERON',\n",
       " 132: 'CAPUCHINBIRD',\n",
       " 133: 'CARMINE BEE-EATER',\n",
       " 134: 'CASPIAN TERN',\n",
       " 135: 'CASSOWARY',\n",
       " 136: 'CEDAR WAXWING',\n",
       " 137: 'CERULEAN WARBLER',\n",
       " 138: 'CHARA DE COLLAR',\n",
       " 139: 'CHATTERING LORY',\n",
       " 140: 'CHESTNET BELLIED EUPHONIA',\n",
       " 141: 'CHESTNUT WINGED CUCKOO',\n",
       " 142: 'CHINESE BAMBOO PARTRIDGE',\n",
       " 143: 'CHINESE POND HERON',\n",
       " 144: 'CHIPPING SPARROW',\n",
       " 145: 'CHUCAO TAPACULO',\n",
       " 146: 'CHUKAR PARTRIDGE',\n",
       " 147: 'CINNAMON ATTILA',\n",
       " 148: 'CINNAMON FLYCATCHER',\n",
       " 149: 'CINNAMON TEAL',\n",
       " 150: 'CLARKS GREBE',\n",
       " 151: 'CLARKS NUTCRACKER',\n",
       " 152: 'COCK OF THE  ROCK',\n",
       " 153: 'COCKATOO',\n",
       " 154: 'COLLARED ARACARI',\n",
       " 155: 'COLLARED CRESCENTCHEST',\n",
       " 156: 'COMMON FIRECREST',\n",
       " 157: 'COMMON GRACKLE',\n",
       " 158: 'COMMON HOUSE MARTIN',\n",
       " 159: 'COMMON IORA',\n",
       " 160: 'COMMON LOON',\n",
       " 161: 'COMMON POORWILL',\n",
       " 162: 'COMMON STARLING',\n",
       " 163: 'COPPERSMITH BARBET',\n",
       " 164: 'COPPERY TAILED COUCAL',\n",
       " 165: 'CRAB PLOVER',\n",
       " 166: 'CRANE HAWK',\n",
       " 167: 'CREAM COLORED WOODPECKER',\n",
       " 168: 'CRESTED AUKLET',\n",
       " 169: 'CRESTED CARACARA',\n",
       " 170: 'CRESTED COUA',\n",
       " 171: 'CRESTED FIREBACK',\n",
       " 172: 'CRESTED KINGFISHER',\n",
       " 173: 'CRESTED NUTHATCH',\n",
       " 174: 'CRESTED OROPENDOLA',\n",
       " 175: 'CRESTED SERPENT EAGLE',\n",
       " 176: 'CRESTED SHRIKETIT',\n",
       " 177: 'CRESTED WOOD PARTRIDGE',\n",
       " 178: 'CRIMSON CHAT',\n",
       " 179: 'CRIMSON SUNBIRD',\n",
       " 180: 'CROW',\n",
       " 181: 'CUBAN TODY',\n",
       " 182: 'CUBAN TROGON',\n",
       " 183: 'CURL CRESTED ARACURI',\n",
       " 184: 'D-ARNAUDS BARBET',\n",
       " 185: 'DALMATIAN PELICAN',\n",
       " 186: 'DARJEELING WOODPECKER',\n",
       " 187: 'DARK EYED JUNCO',\n",
       " 188: 'DAURIAN REDSTART',\n",
       " 189: 'DEMOISELLE CRANE',\n",
       " 190: 'DOUBLE BARRED FINCH',\n",
       " 191: 'DOUBLE BRESTED CORMARANT',\n",
       " 192: 'DOUBLE EYED FIG PARROT',\n",
       " 193: 'DOWNY WOODPECKER',\n",
       " 194: 'DUNLIN',\n",
       " 195: 'DUSKY LORY',\n",
       " 196: 'DUSKY ROBIN',\n",
       " 197: 'EARED PITA',\n",
       " 198: 'EASTERN BLUEBIRD',\n",
       " 199: 'EASTERN BLUEBONNET',\n",
       " 200: 'EASTERN GOLDEN WEAVER',\n",
       " 201: 'EASTERN MEADOWLARK',\n",
       " 202: 'EASTERN ROSELLA',\n",
       " 203: 'EASTERN TOWEE',\n",
       " 204: 'EASTERN WIP POOR WILL',\n",
       " 205: 'EASTERN YELLOW ROBIN',\n",
       " 206: 'ECUADORIAN HILLSTAR',\n",
       " 207: 'EGYPTIAN GOOSE',\n",
       " 208: 'ELEGANT TROGON',\n",
       " 209: 'ELLIOTS  PHEASANT',\n",
       " 210: 'EMERALD TANAGER',\n",
       " 211: 'EMPEROR PENGUIN',\n",
       " 212: 'EMU',\n",
       " 213: 'ENGGANO MYNA',\n",
       " 214: 'EURASIAN BULLFINCH',\n",
       " 215: 'EURASIAN GOLDEN ORIOLE',\n",
       " 216: 'EURASIAN MAGPIE',\n",
       " 217: 'EUROPEAN GOLDFINCH',\n",
       " 218: 'EUROPEAN TURTLE DOVE',\n",
       " 219: 'EVENING GROSBEAK',\n",
       " 220: 'FAIRY BLUEBIRD',\n",
       " 221: 'FAIRY PENGUIN',\n",
       " 222: 'FAIRY TERN',\n",
       " 223: 'FAN TAILED WIDOW',\n",
       " 224: 'FASCIATED WREN',\n",
       " 225: 'FIERY MINIVET',\n",
       " 226: 'FIORDLAND PENGUIN',\n",
       " 227: 'FIRE TAILLED MYZORNIS',\n",
       " 228: 'FLAME BOWERBIRD',\n",
       " 229: 'FLAME TANAGER',\n",
       " 230: 'FOREST WAGTAIL',\n",
       " 231: 'FRIGATE',\n",
       " 232: 'FRILL BACK PIGEON',\n",
       " 233: 'GAMBELS QUAIL',\n",
       " 234: 'GANG GANG COCKATOO',\n",
       " 235: 'GILA WOODPECKER',\n",
       " 236: 'GILDED FLICKER',\n",
       " 237: 'GLOSSY IBIS',\n",
       " 238: 'GO AWAY BIRD',\n",
       " 239: 'GOLD WING WARBLER',\n",
       " 240: 'GOLDEN BOWER BIRD',\n",
       " 241: 'GOLDEN CHEEKED WARBLER',\n",
       " 242: 'GOLDEN CHLOROPHONIA',\n",
       " 243: 'GOLDEN EAGLE',\n",
       " 244: 'GOLDEN PARAKEET',\n",
       " 245: 'GOLDEN PHEASANT',\n",
       " 246: 'GOLDEN PIPIT',\n",
       " 247: 'GOULDIAN FINCH',\n",
       " 248: 'GRANDALA',\n",
       " 249: 'GRAY CATBIRD',\n",
       " 250: 'GRAY KINGBIRD',\n",
       " 251: 'GRAY PARTRIDGE',\n",
       " 252: 'GREAT ARGUS',\n",
       " 253: 'GREAT GRAY OWL',\n",
       " 254: 'GREAT JACAMAR',\n",
       " 255: 'GREAT KISKADEE',\n",
       " 256: 'GREAT POTOO',\n",
       " 257: 'GREAT TINAMOU',\n",
       " 258: 'GREAT XENOPS',\n",
       " 259: 'GREATER PEWEE',\n",
       " 260: 'GREATER PRAIRIE CHICKEN',\n",
       " 261: 'GREATOR SAGE GROUSE',\n",
       " 262: 'GREEN BROADBILL',\n",
       " 263: 'GREEN JAY',\n",
       " 264: 'GREEN MAGPIE',\n",
       " 265: 'GREEN WINGED DOVE',\n",
       " 266: 'GREY CUCKOOSHRIKE',\n",
       " 267: 'GREY HEADED CHACHALACA',\n",
       " 268: 'GREY HEADED FISH EAGLE',\n",
       " 269: 'GREY PLOVER',\n",
       " 270: 'GROVED BILLED ANI',\n",
       " 271: 'GUINEA TURACO',\n",
       " 272: 'GUINEAFOWL',\n",
       " 273: 'GURNEYS PITTA',\n",
       " 274: 'GYRFALCON',\n",
       " 275: 'HAMERKOP',\n",
       " 276: 'HARLEQUIN DUCK',\n",
       " 277: 'HARLEQUIN QUAIL',\n",
       " 278: 'HARPY EAGLE',\n",
       " 279: 'HAWAIIAN GOOSE',\n",
       " 280: 'HAWFINCH',\n",
       " 281: 'HELMET VANGA',\n",
       " 282: 'HEPATIC TANAGER',\n",
       " 283: 'HIMALAYAN BLUETAIL',\n",
       " 284: 'HIMALAYAN MONAL',\n",
       " 285: 'HOATZIN',\n",
       " 286: 'HOODED MERGANSER',\n",
       " 287: 'HOOPOES',\n",
       " 288: 'HORNED GUAN',\n",
       " 289: 'HORNED LARK',\n",
       " 290: 'HORNED SUNGEM',\n",
       " 291: 'HOUSE FINCH',\n",
       " 292: 'HOUSE SPARROW',\n",
       " 293: 'HYACINTH MACAW',\n",
       " 294: 'IBERIAN MAGPIE',\n",
       " 295: 'IBISBILL',\n",
       " 296: 'IMPERIAL SHAQ',\n",
       " 297: 'INCA TERN',\n",
       " 298: 'INDIAN BUSTARD',\n",
       " 299: 'INDIAN PITTA',\n",
       " 300: 'INDIAN ROLLER',\n",
       " 301: 'INDIAN VULTURE',\n",
       " 302: 'INDIGO BUNTING',\n",
       " 303: 'INDIGO FLYCATCHER',\n",
       " 304: 'INLAND DOTTEREL',\n",
       " 305: 'IVORY BILLED ARACARI',\n",
       " 306: 'IVORY GULL',\n",
       " 307: 'IWI',\n",
       " 308: 'JABIRU',\n",
       " 309: 'JACK SNIPE',\n",
       " 310: 'JACOBIN PIGEON',\n",
       " 311: 'JANDAYA PARAKEET',\n",
       " 312: 'JAPANESE ROBIN',\n",
       " 313: 'JAVA SPARROW',\n",
       " 314: 'JOCOTOCO ANTPITTA',\n",
       " 315: 'KAGU',\n",
       " 316: 'KAKAPO',\n",
       " 317: 'KILLDEAR',\n",
       " 318: 'KING EIDER',\n",
       " 319: 'KING VULTURE',\n",
       " 320: 'KIWI',\n",
       " 321: 'KNOB BILLED DUCK',\n",
       " 322: 'KOOKABURRA',\n",
       " 323: 'LARK BUNTING',\n",
       " 324: 'LAUGHING GULL',\n",
       " 325: 'LAZULI BUNTING',\n",
       " 326: 'LESSER ADJUTANT',\n",
       " 327: 'LILAC ROLLER',\n",
       " 328: 'LIMPKIN',\n",
       " 329: 'LITTLE AUK',\n",
       " 330: 'LOGGERHEAD SHRIKE',\n",
       " 331: 'LONG-EARED OWL',\n",
       " 332: 'LOONEY BIRDS',\n",
       " 333: 'LUCIFER HUMMINGBIRD',\n",
       " 334: 'MAGPIE GOOSE',\n",
       " 335: 'MALABAR HORNBILL',\n",
       " 336: 'MALACHITE KINGFISHER',\n",
       " 337: 'MALAGASY WHITE EYE',\n",
       " 338: 'MALEO',\n",
       " 339: 'MALLARD DUCK',\n",
       " 340: 'MANDRIN DUCK',\n",
       " 341: 'MANGROVE CUCKOO',\n",
       " 342: 'MARABOU STORK',\n",
       " 343: 'MASKED BOBWHITE',\n",
       " 344: 'MASKED BOOBY',\n",
       " 345: 'MASKED LAPWING',\n",
       " 346: 'MCKAYS BUNTING',\n",
       " 347: 'MERLIN',\n",
       " 348: 'MIKADO  PHEASANT',\n",
       " 349: 'MILITARY MACAW',\n",
       " 350: 'MOURNING DOVE',\n",
       " 351: 'MYNA',\n",
       " 352: 'NICOBAR PIGEON',\n",
       " 353: 'NOISY FRIARBIRD',\n",
       " 354: 'NORTHERN BEARDLESS TYRANNULET',\n",
       " 355: 'NORTHERN CARDINAL',\n",
       " 356: 'NORTHERN FLICKER',\n",
       " 357: 'NORTHERN FULMAR',\n",
       " 358: 'NORTHERN GANNET',\n",
       " 359: 'NORTHERN GOSHAWK',\n",
       " 360: 'NORTHERN JACANA',\n",
       " 361: 'NORTHERN MOCKINGBIRD',\n",
       " 362: 'NORTHERN PARULA',\n",
       " 363: 'NORTHERN RED BISHOP',\n",
       " 364: 'NORTHERN SHOVELER',\n",
       " 365: 'OCELLATED TURKEY',\n",
       " 366: 'OILBIRD',\n",
       " 367: 'OKINAWA RAIL',\n",
       " 368: 'ORANGE BREASTED TROGON',\n",
       " 369: 'ORANGE BRESTED BUNTING',\n",
       " 370: 'ORIENTAL BAY OWL',\n",
       " 371: 'ORNATE HAWK EAGLE',\n",
       " 372: 'OSPREY',\n",
       " 373: 'OSTRICH',\n",
       " 374: 'OVENBIRD',\n",
       " 375: 'OYSTER CATCHER',\n",
       " 376: 'PAINTED BUNTING',\n",
       " 377: 'PALILA',\n",
       " 378: 'PALM NUT VULTURE',\n",
       " 379: 'PARADISE TANAGER',\n",
       " 380: 'PARAKETT  AUKLET',\n",
       " 381: 'PARUS MAJOR',\n",
       " 382: 'PATAGONIAN SIERRA FINCH',\n",
       " 383: 'PEACOCK',\n",
       " 384: 'PEREGRINE FALCON',\n",
       " 385: 'PHAINOPEPLA',\n",
       " 386: 'PHILIPPINE EAGLE',\n",
       " 387: 'PINK ROBIN',\n",
       " 388: 'PLUSH CRESTED JAY',\n",
       " 389: 'POMARINE JAEGER',\n",
       " 390: 'PUFFIN',\n",
       " 391: 'PUNA TEAL',\n",
       " 392: 'PURPLE FINCH',\n",
       " 393: 'PURPLE GALLINULE',\n",
       " 394: 'PURPLE MARTIN',\n",
       " 395: 'PURPLE SWAMPHEN',\n",
       " 396: 'PYGMY KINGFISHER',\n",
       " 397: 'PYRRHULOXIA',\n",
       " 398: 'QUETZAL',\n",
       " 399: 'RAINBOW LORIKEET',\n",
       " 400: 'RAZORBILL',\n",
       " 401: 'RED BEARDED BEE EATER',\n",
       " 402: 'RED BELLIED PITTA',\n",
       " 403: 'RED BILLED TROPICBIRD',\n",
       " 404: 'RED BROWED FINCH',\n",
       " 405: 'RED CROSSBILL',\n",
       " 406: 'RED FACED CORMORANT',\n",
       " 407: 'RED FACED WARBLER',\n",
       " 408: 'RED FODY',\n",
       " 409: 'RED HEADED DUCK',\n",
       " 410: 'RED HEADED WOODPECKER',\n",
       " 411: 'RED KNOT',\n",
       " 412: 'RED LEGGED HONEYCREEPER',\n",
       " 413: 'RED NAPED TROGON',\n",
       " 414: 'RED SHOULDERED HAWK',\n",
       " 415: 'RED TAILED HAWK',\n",
       " 416: 'RED TAILED THRUSH',\n",
       " 417: 'RED WINGED BLACKBIRD',\n",
       " 418: 'RED WISKERED BULBUL',\n",
       " 419: 'REGENT BOWERBIRD',\n",
       " 420: 'RING-NECKED PHEASANT',\n",
       " 421: 'ROADRUNNER',\n",
       " 422: 'ROCK DOVE',\n",
       " 423: 'ROSE BREASTED COCKATOO',\n",
       " 424: 'ROSE BREASTED GROSBEAK',\n",
       " 425: 'ROSEATE SPOONBILL',\n",
       " 426: 'ROSY FACED LOVEBIRD',\n",
       " 427: 'ROUGH LEG BUZZARD',\n",
       " 428: 'ROYAL FLYCATCHER',\n",
       " 429: 'RUBY CROWNED KINGLET',\n",
       " 430: 'RUBY THROATED HUMMINGBIRD',\n",
       " 431: 'RUDDY SHELDUCK',\n",
       " 432: 'RUDY KINGFISHER',\n",
       " 433: 'RUFOUS KINGFISHER',\n",
       " 434: 'RUFOUS TREPE',\n",
       " 435: 'RUFUOS MOTMOT',\n",
       " 436: 'SAMATRAN THRUSH',\n",
       " 437: 'SAND MARTIN',\n",
       " 438: 'SANDHILL CRANE',\n",
       " 439: 'SATYR TRAGOPAN',\n",
       " 440: 'SAYS PHOEBE',\n",
       " 441: 'SCARLET CROWNED FRUIT DOVE',\n",
       " 442: 'SCARLET FACED LIOCICHLA',\n",
       " 443: 'SCARLET IBIS',\n",
       " 444: 'SCARLET MACAW',\n",
       " 445: 'SCARLET TANAGER',\n",
       " 446: 'SHOEBILL',\n",
       " 447: 'SHORT BILLED DOWITCHER',\n",
       " 448: 'SMITHS LONGSPUR',\n",
       " 449: 'SNOW GOOSE',\n",
       " 450: 'SNOW PARTRIDGE',\n",
       " 451: 'SNOWY EGRET',\n",
       " 452: 'SNOWY OWL',\n",
       " 453: 'SNOWY PLOVER',\n",
       " 454: 'SNOWY SHEATHBILL',\n",
       " 455: 'SORA',\n",
       " 456: 'SPANGLED COTINGA',\n",
       " 457: 'SPLENDID WREN',\n",
       " 458: 'SPOON BILED SANDPIPER',\n",
       " 459: 'SPOTTED CATBIRD',\n",
       " 460: 'SPOTTED WHISTLING DUCK',\n",
       " 461: 'SQUACCO HERON',\n",
       " 462: 'SRI LANKA BLUE MAGPIE',\n",
       " 463: 'STEAMER DUCK',\n",
       " 464: 'STORK BILLED KINGFISHER',\n",
       " 465: 'STRIATED CARACARA',\n",
       " 466: 'STRIPED OWL',\n",
       " 467: 'STRIPPED MANAKIN',\n",
       " 468: 'STRIPPED SWALLOW',\n",
       " 469: 'SUNBITTERN',\n",
       " 470: 'SUPERB STARLING',\n",
       " 471: 'SURF SCOTER',\n",
       " 472: 'SWINHOES PHEASANT',\n",
       " 473: 'TAILORBIRD',\n",
       " 474: 'TAIWAN MAGPIE',\n",
       " 475: 'TAKAHE',\n",
       " 476: 'TASMANIAN HEN',\n",
       " 477: 'TAWNY FROGMOUTH',\n",
       " 478: 'TEAL DUCK',\n",
       " 479: 'TIT MOUSE',\n",
       " 480: 'TOUCHAN',\n",
       " 481: 'TOWNSENDS WARBLER',\n",
       " 482: 'TREE SWALLOW',\n",
       " 483: 'TRICOLORED BLACKBIRD',\n",
       " 484: 'TROPICAL KINGBIRD',\n",
       " 485: 'TRUMPTER SWAN',\n",
       " 486: 'TURKEY VULTURE',\n",
       " 487: 'TURQUOISE MOTMOT',\n",
       " 488: 'UMBRELLA BIRD',\n",
       " 489: 'VARIED THRUSH',\n",
       " 490: 'VEERY',\n",
       " 491: 'VENEZUELIAN TROUPIAL',\n",
       " 492: 'VERDIN',\n",
       " 493: 'VERMILION FLYCATHER',\n",
       " 494: 'VICTORIA CROWNED PIGEON',\n",
       " 495: 'VIOLET BACKED STARLING',\n",
       " 496: 'VIOLET CUCKOO',\n",
       " 497: 'VIOLET GREEN SWALLOW',\n",
       " 498: 'VIOLET TURACO',\n",
       " 499: 'VISAYAN HORNBILL',\n",
       " 500: 'VULTURINE GUINEAFOWL',\n",
       " 501: 'WALL CREAPER',\n",
       " 502: 'WATTLED CURASSOW',\n",
       " 503: 'WATTLED LAPWING',\n",
       " 504: 'WHIMBREL',\n",
       " 505: 'WHITE BREASTED WATERHEN',\n",
       " 506: 'WHITE BROWED CRAKE',\n",
       " 507: 'WHITE CHEEKED TURACO',\n",
       " 508: 'WHITE CRESTED HORNBILL',\n",
       " 509: 'WHITE EARED HUMMINGBIRD',\n",
       " 510: 'WHITE NECKED RAVEN',\n",
       " 511: 'WHITE TAILED TROPIC',\n",
       " 512: 'WHITE THROATED BEE EATER',\n",
       " 513: 'WILD TURKEY',\n",
       " 514: 'WILLOW PTARMIGAN',\n",
       " 515: 'WILSONS BIRD OF PARADISE',\n",
       " 516: 'WOOD DUCK',\n",
       " 517: 'WOOD THRUSH',\n",
       " 518: 'WOODLAND KINGFISHER',\n",
       " 519: 'WRENTIT',\n",
       " 520: 'YELLOW BELLIED FLOWERPECKER',\n",
       " 521: 'YELLOW BREASTED CHAT',\n",
       " 522: 'YELLOW CACIQUE',\n",
       " 523: 'YELLOW HEADED BLACKBIRD',\n",
       " 524: 'ZEBRA DOVE'}"
      ]
     },
     "execution_count": 29,
     "metadata": {},
     "output_type": "execute_result"
    }
   ],
   "source": [
    "lab = training_set.class_indices\n",
    "lab={k:v for v,k in lab.items()}\n",
    "lab"
   ]
  },
  {
   "cell_type": "code",
   "execution_count": 30,
   "metadata": {
    "execution": {
     "iopub.execute_input": "2024-02-02T05:35:37.396725Z",
     "iopub.status.busy": "2024-02-02T05:35:37.396109Z",
     "iopub.status.idle": "2024-02-02T05:35:37.411258Z",
     "shell.execute_reply": "2024-02-02T05:35:37.410008Z",
     "shell.execute_reply.started": "2024-02-02T05:35:37.396693Z"
    }
   },
   "outputs": [],
   "source": [
    "def output(location):\n",
    "    img=load_img(location,target_size=(224,224,3))\n",
    "    img=img_to_array(img)\n",
    "    img=img/255\n",
    "    img=np.expand_dims(img,[0])\n",
    "    answer=model1.predict(img)\n",
    "    y_class = answer.argmax(axis=-1)\n",
    "    y = \" \".join(str(x) for x in y_class)\n",
    "    y = int(y)\n",
    "    res = lab[y]\n",
    "    return res"
   ]
  },
  {
   "cell_type": "code",
   "execution_count": 32,
   "metadata": {
    "execution": {
     "iopub.execute_input": "2024-02-02T05:35:37.413246Z",
     "iopub.status.busy": "2024-02-02T05:35:37.412897Z",
     "iopub.status.idle": "2024-02-02T05:35:39.075482Z",
     "shell.execute_reply": "2024-02-02T05:35:39.074291Z",
     "shell.execute_reply.started": "2024-02-02T05:35:37.413216Z"
    }
   },
   "outputs": [
    {
     "name": "stdout",
     "output_type": "stream",
     "text": [
      "1/1 [==============================] - 1s 610ms/step\n"
     ]
    },
    {
     "data": {
      "text/markdown": [
       "**KIWI**"
      ],
      "text/plain": [
       "<IPython.core.display.Markdown object>"
      ]
     },
     "metadata": {},
     "output_type": "display_data"
    },
    {
     "name": "stdout",
     "output_type": "stream",
     "text": [
      "Origin:\n",
      "The Kiwi, belonging to the family Apterygidae, is a unique and flightless bird native to New Zealand. Evolving in isolation, the Kiwi is emblematic of New Zealand's avian biodiversity and is closely associated with the country's cultural identity.\n",
      "\n",
      "Characteristics:\n",
      "1. **Flightless Nature:** Kiwis are flightless birds, a characteristic that sets them apart from many other bird species. This adaptation has evolved in response to the absence of terrestrial mammals in New Zealand, allowing the Kiwi to fill ecological niches typically occupied by mammals.\n",
      "2. **Nocturnal Habits:** Kiwis are primarily nocturnal, exhibiting behaviors adapted to low-light conditions. Their keen sense of smell and long, slender bill aid in foraging for invertebrates, which constitute a significant portion of their diet.\n",
      "3. **Distinctive Appearance:** Kiwis are recognized for their distinctive appearance, featuring small, vestigial wings, a stout body, and a long, slender bill. Their plumage varies among the different species, ranging from brown to gray, and often includes a shaggy appearance.\n",
      "4. **Egg Size Relative to Body:** Kiwis are known for laying eggs that are disproportionately large compared to their body size. In fact, Kiwi eggs are some of the largest relative to body size in the avian world, presenting a unique reproductive strategy.\n",
      "5. **Vocalizations:** Kiwis communicate through a variety of vocalizations, including grunts, whistles, and snuffling sounds. These vocalizations are crucial for establishing territory, attracting mates, and communicating with other Kiwis in their forest habitats.\n"
     ]
    },
    {
     "data": {
      "image/png": "[encoded data removed]",
      "text/plain": [
       "<Figure size 640x480 with 1 Axes>"
      ]
     },
     "metadata": {},
     "output_type": "display_data"
    }
   ],
   "source": [
    "from IPython.display import Markdown, display\n",
    "img = r'C:\\Users\\praks\\Downloads\\Bird_Species_Classification_Streamlit-master\\Bird_Species_Classification_Streamlit-master\\kiwi.jpg'\n",
    "\n",
    "pic=load_img(img,target_size=(224,224,3))\n",
    "plt.imshow(pic)\n",
    "bird_name=output(img)\n",
    "bird_name\n",
    "# Assuming you have the detected bird name stored in a variable\n",
    "# bird_name = 'OSTRICH'  # Replace this with your actual detection result\n",
    "\n",
    "# ANSI escape code for bold text\n",
    "bold_text = \"\\033[1m\"\n",
    "\n",
    "# Construct the file path with the detected bird name\n",
    "file_path = r'C:\\Users\\praks\\Downloads\\Bird_Species_Classification_Streamlit-master\\Bird_Species_Classification_Streamlit-master\\Birds_description\\{}.txt'.format(bird_name)\n",
    "\n",
    "\n",
    "# Open and read the file\n",
    "with open(file_path, 'r') as file:\n",
    "    content = file.read()\n",
    "\n",
    "# Print the bird name in bold using Markdown\n",
    "display(Markdown(f'**{bird_name}**'))\n",
    "\n",
    "# Print or process the content as needed\n",
    "print(content)\n"
   ]
  },
  {
   "cell_type": "code",
   "execution_count": 33,
   "metadata": {},
   "outputs": [
    {
     "name": "stdout",
     "output_type": "stream",
     "text": [
      "2.15.0\n",
      "2.15.0\n"
     ]
    }
   ],
   "source": [
    "import tensorflow as tf\n",
    "import keras as k\n",
    "print(tf.__version__)\n",
    "print(k.__version__)"
   ]
  },
  {
   "cell_type": "code",
   "execution_count": 17,
   "metadata": {},
   "outputs": [
    {
     "name": "stdout",
     "output_type": "stream",
     "text": [
      "Defaulting to user installation because normal site-packages is not writeable\n",
      "Requirement already satisfied: streamlit in c:\\users\\praks\\appdata\\roaming\\python\\python311\\site-packages (1.31.0)\n",
      "Requirement already satisfied: altair<6,>=4.0 in c:\\users\\praks\\appdata\\roaming\\python\\python311\\site-packages (from streamlit) (5.2.0)\n",
      "Requirement already satisfied: blinker<2,>=1.0.0 in c:\\users\\praks\\appdata\\roaming\\python\\python311\\site-packages (from streamlit) (1.7.0)\n",
      "Requirement already satisfied: cachetools<6,>=4.0 in c:\\users\\praks\\appdata\\roaming\\python\\python311\\site-packages (from streamlit) (5.3.2)\n",
      "Requirement already satisfied: click<9,>=7.0 in c:\\programdata\\anaconda3\\lib\\site-packages (from streamlit) (8.0.4)\n",
      "Requirement already satisfied: importlib-metadata<8,>=1.4 in c:\\programdata\\anaconda3\\lib\\site-packages (from streamlit) (6.0.0)\n",
      "Requirement already satisfied: numpy<2,>=1.19.3 in c:\\users\\praks\\appdata\\roaming\\python\\python311\\site-packages (from streamlit) (1.26.4)\n",
      "Requirement already satisfied: packaging<24,>=16.8 in c:\\programdata\\anaconda3\\lib\\site-packages (from streamlit) (23.1)\n",
      "Requirement already satisfied: pandas<3,>=1.3.0 in c:\\programdata\\anaconda3\\lib\\site-packages (from streamlit) (2.0.3)\n",
      "Requirement already satisfied: pillow<11,>=7.1.0 in c:\\programdata\\anaconda3\\lib\\site-packages (from streamlit) (10.0.1)\n",
      "Requirement already satisfied: protobuf<5,>=3.20 in c:\\users\\praks\\appdata\\roaming\\python\\python311\\site-packages (from streamlit) (4.23.4)\n",
      "Requirement already satisfied: pyarrow>=7.0 in c:\\programdata\\anaconda3\\lib\\site-packages (from streamlit) (11.0.0)\n",
      "Requirement already satisfied: python-dateutil<3,>=2.7.3 in c:\\programdata\\anaconda3\\lib\\site-packages (from streamlit) (2.8.2)\n",
      "Requirement already satisfied: requests<3,>=2.27 in c:\\programdata\\anaconda3\\lib\\site-packages (from streamlit) (2.31.0)\n",
      "Requirement already satisfied: rich<14,>=10.14.0 in c:\\users\\praks\\appdata\\roaming\\python\\python311\\site-packages (from streamlit) (13.7.0)\n",
      "Requirement already satisfied: tenacity<9,>=8.1.0 in c:\\programdata\\anaconda3\\lib\\site-packages (from streamlit) (8.2.2)\n",
      "Requirement already satisfied: toml<2,>=0.10.1 in c:\\programdata\\anaconda3\\lib\\site-packages (from streamlit) (0.10.2)\n",
      "Requirement already satisfied: typing-extensions<5,>=4.3.0 in c:\\programdata\\anaconda3\\lib\\site-packages (from streamlit) (4.7.1)\n",
      "Requirement already satisfied: tzlocal<6,>=1.1 in c:\\users\\praks\\appdata\\roaming\\python\\python311\\site-packages (from streamlit) (5.2)\n",
      "Requirement already satisfied: validators<1,>=0.2 in c:\\users\\praks\\appdata\\roaming\\python\\python311\\site-packages (from streamlit) (0.22.0)\n",
      "Requirement already satisfied: gitpython!=3.1.19,<4,>=3.0.7 in c:\\users\\praks\\appdata\\roaming\\python\\python311\\site-packages (from streamlit) (3.1.41)\n",
      "Requirement already satisfied: pydeck<1,>=0.8.0b4 in c:\\users\\praks\\appdata\\roaming\\python\\python311\\site-packages (from streamlit) (0.8.1b0)\n",
      "Requirement already satisfied: tornado<7,>=6.0.3 in c:\\programdata\\anaconda3\\lib\\site-packages (from streamlit) (6.3.2)\n",
      "Requirement already satisfied: watchdog>=2.1.5 in c:\\programdata\\anaconda3\\lib\\site-packages (from streamlit) (2.1.6)\n",
      "Requirement already satisfied: jinja2 in c:\\programdata\\anaconda3\\lib\\site-packages (from altair<6,>=4.0->streamlit) (3.1.2)\n",
      "Requirement already satisfied: jsonschema>=3.0 in c:\\programdata\\anaconda3\\lib\\site-packages (from altair<6,>=4.0->streamlit) (4.17.3)\n",
      "Requirement already satisfied: toolz in c:\\programdata\\anaconda3\\lib\\site-packages (from altair<6,>=4.0->streamlit) (0.12.0)\n",
      "Requirement already satisfied: colorama in c:\\programdata\\anaconda3\\lib\\site-packages (from click<9,>=7.0->streamlit) (0.4.6)\n",
      "Requirement already satisfied: gitdb<5,>=4.0.1 in c:\\users\\praks\\appdata\\roaming\\python\\python311\\site-packages (from gitpython!=3.1.19,<4,>=3.0.7->streamlit) (4.0.11)\n",
      "Requirement already satisfied: zipp>=0.5 in c:\\programdata\\anaconda3\\lib\\site-packages (from importlib-metadata<8,>=1.4->streamlit) (3.11.0)\n",
      "Requirement already satisfied: pytz>=2020.1 in c:\\programdata\\anaconda3\\lib\\site-packages (from pandas<3,>=1.3.0->streamlit) (2023.3.post1)\n",
      "Requirement already satisfied: tzdata>=2022.1 in c:\\programdata\\anaconda3\\lib\\site-packages (from pandas<3,>=1.3.0->streamlit) (2023.3)\n",
      "Requirement already satisfied: six>=1.5 in c:\\programdata\\anaconda3\\lib\\site-packages (from python-dateutil<3,>=2.7.3->streamlit) (1.16.0)\n",
      "Requirement already satisfied: charset-normalizer<4,>=2 in c:\\programdata\\anaconda3\\lib\\site-packages (from requests<3,>=2.27->streamlit) (2.0.4)\n",
      "Requirement already satisfied: idna<4,>=2.5 in c:\\programdata\\anaconda3\\lib\\site-packages (from requests<3,>=2.27->streamlit) (3.4)\n",
      "Requirement already satisfied: urllib3<3,>=1.21.1 in c:\\programdata\\anaconda3\\lib\\site-packages (from requests<3,>=2.27->streamlit) (1.26.16)\n",
      "Requirement already satisfied: certifi>=2017.4.17 in c:\\programdata\\anaconda3\\lib\\site-packages (from requests<3,>=2.27->streamlit) (2023.11.17)\n",
      "Requirement already satisfied: markdown-it-py>=2.2.0 in c:\\programdata\\anaconda3\\lib\\site-packages (from rich<14,>=10.14.0->streamlit) (2.2.0)\n",
      "Requirement already satisfied: pygments<3.0.0,>=2.13.0 in c:\\programdata\\anaconda3\\lib\\site-packages (from rich<14,>=10.14.0->streamlit) (2.15.1)\n",
      "Requirement already satisfied: smmap<6,>=3.0.1 in c:\\users\\praks\\appdata\\roaming\\python\\python311\\site-packages (from gitdb<5,>=4.0.1->gitpython!=3.1.19,<4,>=3.0.7->streamlit) (5.0.1)\n",
      "Requirement already satisfied: MarkupSafe>=2.0 in c:\\programdata\\anaconda3\\lib\\site-packages (from jinja2->altair<6,>=4.0->streamlit) (2.1.1)\n",
      "Requirement already satisfied: attrs>=17.4.0 in c:\\programdata\\anaconda3\\lib\\site-packages (from jsonschema>=3.0->altair<6,>=4.0->streamlit) (22.1.0)\n",
      "Requirement already satisfied: pyrsistent!=0.17.0,!=0.17.1,!=0.17.2,>=0.14.0 in c:\\programdata\\anaconda3\\lib\\site-packages (from jsonschema>=3.0->altair<6,>=4.0->streamlit) (0.18.0)\n",
      "Requirement already satisfied: mdurl~=0.1 in c:\\programdata\\anaconda3\\lib\\site-packages (from markdown-it-py>=2.2.0->rich<14,>=10.14.0->streamlit) (0.1.0)\n"
     ]
    }
   ],
   "source": [
    "!pip install streamlit\n"
   ]
  },
  {
   "cell_type": "code",
   "execution_count": null,
   "metadata": {},
   "outputs": [],
   "source": []
  },
  {
   "cell_type": "code",
   "execution_count": null,
   "metadata": {},
   "outputs": [],
   "source": []
  },
  {
   "cell_type": "code",
   "execution_count": null,
   "metadata": {},
   "outputs": [],
   "source": []
  }
 ],
 "metadata": {
  "kaggle": {
   "accelerator": "none",
   "dataSources": [
    {
     "datasetId": 534640,
     "sourceId": 5468571,
     "sourceType": "datasetVersion"
    },
    {
     "datasetId": 4326294,
     "sourceId": 7434042,
     "sourceType": "datasetVersion"
    },
    {
     "datasetId": 4381405,
     "sourceId": 7521278,
     "sourceType": "datasetVersion"
    },
    {
     "datasetId": 4326325,
     "sourceId": 7527811,
     "sourceType": "datasetVersion"
    }
   ],
   "dockerImageVersionId": 30636,
   "isGpuEnabled": false,
   "isInternetEnabled": true,
   "language": "python",
   "sourceType": "notebook"
  },
  "kernelspec": {
   "display_name": "Python 3 (ipykernel)",
   "language": "python",
   "name": "python3"
  },
  "language_info": {
   "codemirror_mode": {
    "name": "ipython",
    "version": 3
   },
   "file_extension": ".py",
   "mimetype": "text/x-python",
   "name": "python",
   "nbconvert_exporter": "python",
   "pygments_lexer": "ipython3",
   "version": "3.11.5"
  }
 },
 "nbformat": 4,
 "nbformat_minor": 4
}
